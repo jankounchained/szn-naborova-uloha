{
 "cells": [
  {
   "cell_type": "markdown",
   "metadata": {},
   "source": [
    "# přehled\n",
    "\n",
    "- strukturování datasetu\n",
    "- exploratory analysis\n",
    "- příprava datasetu pro trénování modelu\n",
    "- finetuning a distil-BERT model \n",
    "- demostrace natrenovaneho modelu"
   ]
  },
  {
   "cell_type": "code",
   "execution_count": 1,
   "metadata": {},
   "outputs": [
    {
     "name": "stderr",
     "output_type": "stream",
     "text": [
      "/Users/au582299/.pyenv/versions/3.9.7/envs/szn_env/lib/python3.9/site-packages/tqdm/auto.py:22: TqdmWarning: IProgress not found. Please update jupyter and ipywidgets. See https://ipywidgets.readthedocs.io/en/stable/user_install.html\n",
      "  from .autonotebook import tqdm as notebook_tqdm\n"
     ]
    }
   ],
   "source": [
    "import os\n",
    "import numpy as np\n",
    "import pandas as pd\n",
    "import ndjson\n",
    "\n",
    "import matplotlib.pyplot as plt\n",
    "import seaborn as sns\n",
    "from tqdm import tqdm\n",
    "\n",
    "from sklearn.model_selection import train_test_split\n",
    "from sklearn.metrics import classification_report\n",
    "from transformers import AutoTokenizer, AutoModelForSequenceClassification, pipeline"
   ]
  },
  {
   "cell_type": "markdown",
   "metadata": {},
   "source": [
    "# Dataset\n",
    "Recenze jídel z Amazonu.  \n",
    "Získáno z http://snap.stanford.edu/data/web-FineFoods.html.  \n",
    "\n",
    "#### download\n",
    "`$ bash download_data.sh`\n",
    "\n",
    "#### struktura\n",
    "Dataset je dlouhý textový soubor, ve kterém jsou pozorování (recenze) oddělena dvojitými novými řádky.  \n",
    "Jedna recenze vypadá takto:\n",
    "\n",
    "```\n",
    "product/productId: B001E4KFG0\n",
    "review/userId: A3SGXH7AUHU8GW\n",
    "review/profileName: delmartian\n",
    "review/helpfulness: 1/1\n",
    "review/score: 5.0\n",
    "review/time: 1303862400\n",
    "review/summary: Good Quality Dog Food\n",
    "review/text: I have bought several of the Vitality canned dog food products and have\n",
    "found them all to be of good quality. The product looks more like a stew than a\n",
    "processed meat and it smells better. My Labrador is finicky and she appreciates this\n",
    "product better than most.\n",
    "```\n",
    "\n",
    "Prvním krokem bude strukturování souboru dat do `List[dict]`"
   ]
  },
  {
   "cell_type": "code",
   "execution_count": 2,
   "metadata": {},
   "outputs": [
    {
     "data": {
      "text/plain": [
       "568454"
      ]
     },
     "execution_count": 2,
     "metadata": {},
     "output_type": "execute_result"
    }
   ],
   "source": [
    "# import dataset\n",
    "dataset_path = os.path.join(\"dat\", \"finefoods.txt\")\n",
    "with open(dataset_path, encoding=\"iso-8859-1\") as fin:\n",
    "    finefoods_unstruct = fin.read()\n",
    "\n",
    "# structure dataset from a long string to a list of dict\n",
    "ff = [\n",
    "    # text before the first colon is key, everything after is value\n",
    "    {\n",
    "        line.split(\": \")[0]: \": \".join(line.split(\": \")[1:])\n",
    "        # key-value pairs are separated by a single newline\n",
    "        for line in obs.split(\"\\n\")\n",
    "    }  \n",
    "    # observations are separated by double newline\n",
    "    for obs in finefoods_unstruct.split(\"\\n\\n\") if obs\n",
    "    ]\n",
    "\n",
    "# length is same as reported on http://snap.stanford.edu/data/web-FineFoods.html\n",
    "len(ff)"
   ]
  },
  {
   "cell_type": "markdown",
   "metadata": {},
   "source": [
    "Některé recenze jsou špatně naformátovány.  \n",
    "Příklad:"
   ]
  },
  {
   "cell_type": "code",
   "execution_count": 3,
   "metadata": {},
   "outputs": [
    {
     "data": {
      "text/plain": [
       "{'product/productId': 'B001E4KFG0',\n",
       " 'review/userId': 'A3SGXH7AUHU8GW',\n",
       " 'review/profileName': 'delmartian',\n",
       " 'review/helpfulness': '1/1',\n",
       " 'review/score': '5.0',\n",
       " 'review/time': '1303862400',\n",
       " 'review/summary': 'Good Quality Dog Food',\n",
       " 'review/text': 'I have bought several of the Vitality canned dog food products and have found them all to be of good quality. The product looks more like a stew than a processed meat and it smells better. My Labrador is finicky and she appreciates this product better than  most.'}"
      ]
     },
     "execution_count": 3,
     "metadata": {},
     "output_type": "execute_result"
    }
   ],
   "source": [
    "# good observation (standard format)\n",
    "ff[0]"
   ]
  },
  {
   "cell_type": "code",
   "execution_count": 4,
   "metadata": {},
   "outputs": [
    {
     "data": {
      "text/plain": [
       "{'product/productId': 'B003XBBAUM',\n",
       " 'review/userId': 'A2HVY3YRSJR5NF',\n",
       " 'review/profileName': 'J. Facey \"J.F., CA',\n",
       " 'I am a voracious reader/li...': '',\n",
       " 'review/helpfulness': '2/2',\n",
       " 'review/score': '5.0',\n",
       " 'review/time': '1332633600',\n",
       " 'review/summary': 'The absolute best - taste better than brown sugar',\n",
       " 'review/text': 'I recently bought this sugar alternative and I am completely blown away! I have fibromyalgia, multiple food allergies/sensitivities and so many thing make me feel bad including exacerbating my pain. This does not have any negative effects on me whatsoever. The taste is out of this world! I am tempted to just eat it. This one is a winner! A little secret - I found it much cheaper at Whole Foods market.'}"
      ]
     },
     "execution_count": 4,
     "metadata": {},
     "output_type": "execute_result"
    }
   ],
   "source": [
    "# bad observation (random value without a key)\n",
    "ff[351182]\n"
   ]
  },
  {
   "cell_type": "markdown",
   "metadata": {},
   "source": [
    "Převod na data frame (tabulkojiní datová struktura).  \n",
    "Budeme moci odstranit pouze chybně naformátované řádky, ale necháme si recenzi ke které patří."
   ]
  },
  {
   "cell_type": "code",
   "execution_count": 5,
   "metadata": {},
   "outputs": [
    {
     "name": "stdout",
     "output_type": "stream",
     "text": [
      "<class 'pandas.core.frame.DataFrame'>\n",
      "RangeIndex: 568454 entries, 0 to 568453\n",
      "Data columns (total 8 columns):\n",
      " #   Column              Non-Null Count   Dtype \n",
      "---  ------              --------------   ----- \n",
      " 0   product/productId   568454 non-null  object\n",
      " 1   review/userId       568454 non-null  object\n",
      " 2   review/profileName  568454 non-null  object\n",
      " 3   review/helpfulness  568454 non-null  object\n",
      " 4   review/score        568454 non-null  object\n",
      " 5   review/time         568454 non-null  object\n",
      " 6   review/summary      568454 non-null  object\n",
      " 7   review/text         568454 non-null  object\n",
      "dtypes: object(8)\n",
      "memory usage: 34.7+ MB\n"
     ]
    }
   ],
   "source": [
    "df = pd.DataFrame(ff)\n",
    "\n",
    "# drop misformated parts of the review\n",
    "faulty_cols = [8, 9, 10, 11]\n",
    "df = df.drop(df.columns[faulty_cols], axis=1)\n",
    "\n",
    "df.info()"
   ]
  },
  {
   "cell_type": "markdown",
   "metadata": {},
   "source": [
    "Converting variables to the right data type to make working with them easier.  \n",
    "- review/score: str -> int\n",
    "- review/time: unix timestamp -> yyyy-mm-dd\n",
    "- expand review/helpfulness to be helpful"
   ]
  },
  {
   "cell_type": "code",
   "execution_count": 6,
   "metadata": {},
   "outputs": [],
   "source": [
    "# review score to int\n",
    "df[\"review/score\"] = df[\"review/score\"].astype(float).astype(int)\n",
    "\n",
    "# unix timestamp to date (all the dates are on midnight, so we only have daily-resolution)\n",
    "# FIXME convert back to string before splitting\n",
    "df[\"review/time\"] = pd.to_datetime(df[\"review/time\"], unit=\"s\")\n",
    "\n",
    "# split review helpfulness into two numbers\n",
    "review_helpful = [obs.split(\"/\") for obs in df[\"review/helpfulness\"].tolist()]\n",
    "# proportion of votes that think review was helpful\n",
    "df[\"review/helpful_prop\"] = [\n",
    "    int(n_hlp) / int(n_total) if int(n_total) > 0 else 0\n",
    "    for n_hlp, n_total in review_helpful\n",
    "]\n",
    "# total number of helpfulness votes\n",
    "df[\"review/helpful_n_total\"] = [int(obs[1]) for obs in review_helpful]\n"
   ]
  },
  {
   "cell_type": "code",
   "execution_count": 7,
   "metadata": {},
   "outputs": [
    {
     "name": "stdout",
     "output_type": "stream",
     "text": [
      "<class 'pandas.core.frame.DataFrame'>\n",
      "RangeIndex: 568454 entries, 0 to 568453\n",
      "Data columns (total 10 columns):\n",
      " #   Column                  Non-Null Count   Dtype         \n",
      "---  ------                  --------------   -----         \n",
      " 0   product/productId       568454 non-null  object        \n",
      " 1   review/userId           568454 non-null  object        \n",
      " 2   review/profileName      568454 non-null  object        \n",
      " 3   review/helpfulness      568454 non-null  object        \n",
      " 4   review/score            568454 non-null  int64         \n",
      " 5   review/time             568454 non-null  datetime64[ns]\n",
      " 6   review/summary          568454 non-null  object        \n",
      " 7   review/text             568454 non-null  object        \n",
      " 8   review/helpful_prop     568454 non-null  float64       \n",
      " 9   review/helpful_n_total  568454 non-null  int64         \n",
      "dtypes: datetime64[ns](1), float64(1), int64(2), object(6)\n",
      "memory usage: 43.4+ MB\n"
     ]
    }
   ],
   "source": [
    "df.info()"
   ]
  },
  {
   "cell_type": "markdown",
   "metadata": {},
   "source": [
    "### exploratory analysis\n",
    "ačkoli dataset zahrnuje období od října 1999 do října 2012, většina recenzí je z konce tohoto období."
   ]
  },
  {
   "cell_type": "code",
   "execution_count": 8,
   "metadata": {},
   "outputs": [
    {
     "data": {
      "text/plain": [
       "<AxesSubplot:xlabel='review/time', ylabel='Count'>"
      ]
     },
     "execution_count": 8,
     "metadata": {},
     "output_type": "execute_result"
    },
    {
     "data": {
      "image/png": "[encoded data removed]",
      "text/plain": [
       "<Figure size 432x288 with 1 Axes>"
      ]
     },
     "metadata": {
      "needs_background": "light"
     },
     "output_type": "display_data"
    }
   ],
   "source": [
    "sns.histplot(x=df['review/time'])"
   ]
  },
  {
   "cell_type": "markdown",
   "metadata": {},
   "source": [
    "Nezdá se, že by na počet hvězdiček měl vliv rok.  \n",
    "V prvních letech je příliš málo recenzí."
   ]
  },
  {
   "cell_type": "code",
   "execution_count": 9,
   "metadata": {},
   "outputs": [
    {
     "data": {
      "image/png": "[encoded data removed]",
      "text/plain": [
       "<Figure size 432x288 with 1 Axes>"
      ]
     },
     "metadata": {
      "needs_background": "light"
     },
     "output_type": "display_data"
    }
   ],
   "source": [
    "df_time = df.copy()\n",
    "\n",
    "df_time[\"review/year\"] = [\n",
    "    int(date[0:4]) for date in df_time[\"review/time\"].dt.strftime(\"%Y-%m-%d\").tolist()\n",
    "]\n",
    "\n",
    "fig = sns.barplot(x=df_time[\"review/year\"], y=df_time[\"review/score\"])\n",
    "fig.set_xticklabels(fig.get_xticklabels(), rotation=45, horizontalalignment='right')\n",
    "plt.show()\n"
   ]
  },
  {
   "cell_type": "markdown",
   "metadata": {},
   "source": [
    "Zdá se, že průměrná délka recenzí je v průběhu let také stabilní.  \n",
    "Je možné, že se průměrná délka recenze nebo počet udělených hvězdiček mění v důsledku sezónních trendů (například Vánoc)."
   ]
  },
  {
   "cell_type": "code",
   "execution_count": 10,
   "metadata": {},
   "outputs": [
    {
     "data": {
      "image/png": "[encoded data removed]",
      "text/plain": [
       "<Figure size 432x288 with 1 Axes>"
      ]
     },
     "metadata": {
      "needs_background": "light"
     },
     "output_type": "display_data"
    }
   ],
   "source": [
    "df_time[\"review/length\"] = [len(text) for text in df_time[\"review/text\"].tolist()]\n",
    "\n",
    "fig = sns.barplot(x=df_time[\"review/year\"], y=df_time[\"review/length\"])\n",
    "fig.set(xlabel=None)\n",
    "plt.show()"
   ]
  },
  {
   "cell_type": "markdown",
   "metadata": {},
   "source": [
    "I když v průběhu let vidíme více odchylek."
   ]
  },
  {
   "cell_type": "code",
   "execution_count": 11,
   "metadata": {},
   "outputs": [
    {
     "name": "stderr",
     "output_type": "stream",
     "text": [
      "/var/folders/_1/x3y6hbdn5ljg_g6fr5kj88bs87mgrt/T/ipykernel_80580/3713732775.py:2: UserWarning: FixedFormatter should only be used together with FixedLocator\n",
      "  fig.set_xticklabels(fig.get_xticklabels(), rotation=45, horizontalalignment=\"right\")\n"
     ]
    },
    {
     "data": {
      "image/png": "[encoded data removed]",
      "text/plain": [
       "<Figure size 432x288 with 1 Axes>"
      ]
     },
     "metadata": {
      "needs_background": "light"
     },
     "output_type": "display_data"
    }
   ],
   "source": [
    "fig = sns.scatterplot(x=df_time[\"review/year\"], y=df_time[\"review/length\"])\n",
    "fig.set_xticklabels(fig.get_xticklabels(), rotation=45, horizontalalignment=\"right\")\n",
    "plt.show()"
   ]
  },
  {
   "cell_type": "markdown",
   "metadata": {},
   "source": [
    "# Příprava datasetu pro trénování modelu\n",
    "\n",
    "- odstranění chybějících hodnot\n",
    "- deduplikace\n",
    "- sloučení textových sloupců\n",
    "- binarizace outcome variable (`review/score`)\n",
    "\n",
    "\n",
    "### chybějící hodnoty\n",
    "Občas se vyskytují chybějící hodnoty v `review/summary`, což je jeden z textových sloupců.   "
   ]
  },
  {
   "cell_type": "code",
   "execution_count": 12,
   "metadata": {},
   "outputs": [
    {
     "name": "stdout",
     "output_type": "stream",
     "text": [
      "N/A count: 26 \n",
      "n/a count: 1\n"
     ]
    }
   ],
   "source": [
    "# missing values are indicated as either \"N/A\" or \"n/a\"\n",
    "na_uppercase = df['review/summary'].value_counts()['N/A']\n",
    "na_lowercase = df['review/summary'].value_counts()['n/a']\n",
    "\n",
    "print(f\"N/A count: {na_uppercase} \\nn/a count: {na_lowercase}\")\n"
   ]
  },
  {
   "cell_type": "code",
   "execution_count": 13,
   "metadata": {},
   "outputs": [
    {
     "data": {
      "text/plain": [
       "568427"
      ]
     },
     "execution_count": 13,
     "metadata": {},
     "output_type": "execute_result"
    }
   ],
   "source": [
    "# remove rows with NaN in text fields\n",
    "df_nonan = df.replace(\"N/A\", np.nan).replace(\"n/a\", np.nan).dropna()\n",
    "len(df_nonan)"
   ]
  },
  {
   "cell_type": "markdown",
   "metadata": {},
   "source": [
    "### deduplikace\n",
    "Přibližně třetina recenzí v datasetu má duplicitní text (`review/text`) a ještě více z nich má duplicitní titulek (`review/summary`).  \n",
    "Recenze s duplicitním textem (`recenze/text`) budou odstraněny v pokusu zmenšit riziko overfittingu na těchto příkladech. \n",
    "\n",
    "Duplicity v `review/summary` jsou však srozumitelnější.  \n",
    "Tyto texty jsou většinou krátké (často jednoslovné), nedá se v nich udělat tolik kombinací.\n",
    "Duplicity v `review/summary` budou ponechány.  \n",
    "\n",
    "Konečné texty použité k trénování modelu nebudou obsahovat žádné duplicity, protože tato dvě textová pole budou později sloučena."
   ]
  },
  {
   "cell_type": "code",
   "execution_count": 14,
   "metadata": {},
   "outputs": [
    {
     "name": "stdout",
     "output_type": "stream",
     "text": [
      "n duplicates in review/text: 174851 \n",
      "n_duplicates in review/summary: 272685\n"
     ]
    }
   ],
   "source": [
    "n_duplicates_text = df_nonan['review/text'].duplicated().sum()\n",
    "n_duplicates_summary = df_nonan['review/summary'].duplicated().sum()\n",
    "print(\n",
    "    f\"n duplicates in review/text: {n_duplicates_text}\",\n",
    "    '\\n'\n",
    "    f'n_duplicates in review/summary: {n_duplicates_summary}'\n",
    "    )"
   ]
  },
  {
   "cell_type": "code",
   "execution_count": 15,
   "metadata": {},
   "outputs": [
    {
     "data": {
      "text/plain": [
       "review/summary\n",
       "Delicious!       2462\n",
       "Delicious        2316\n",
       "Yummy!           1594\n",
       "Yummy            1268\n",
       "Great product    1091\n",
       "dtype: int64"
      ]
     },
     "execution_count": 15,
     "metadata": {},
     "output_type": "execute_result"
    }
   ],
   "source": [
    "# top 5 summaries used in the reviews\n",
    "(df_nonan\n",
    "    .groupby('review/summary')\n",
    "    .size()\n",
    "    .sort_values(ascending=False)\n",
    "    .head()\n",
    ")"
   ]
  },
  {
   "cell_type": "code",
   "execution_count": 16,
   "metadata": {},
   "outputs": [
    {
     "name": "stdout",
     "output_type": "stream",
     "text": [
      "<class 'pandas.core.frame.DataFrame'>\n",
      "Int64Index: 393576 entries, 0 to 568453\n",
      "Data columns (total 10 columns):\n",
      " #   Column                  Non-Null Count   Dtype         \n",
      "---  ------                  --------------   -----         \n",
      " 0   product/productId       393576 non-null  object        \n",
      " 1   review/userId           393576 non-null  object        \n",
      " 2   review/profileName      393576 non-null  object        \n",
      " 3   review/helpfulness      393576 non-null  object        \n",
      " 4   review/score            393576 non-null  int64         \n",
      " 5   review/time             393576 non-null  datetime64[ns]\n",
      " 6   review/summary          393576 non-null  object        \n",
      " 7   review/text             393576 non-null  object        \n",
      " 8   review/helpful_prop     393576 non-null  float64       \n",
      " 9   review/helpful_n_total  393576 non-null  int64         \n",
      "dtypes: datetime64[ns](1), float64(1), int64(2), object(6)\n",
      "memory usage: 33.0+ MB\n"
     ]
    }
   ],
   "source": [
    "# remove NaN & duplicates\n",
    "df_deduped = df_nonan.drop_duplicates(subset=[\"review/text\"])\n",
    "df_deduped.info()"
   ]
  },
  {
   "cell_type": "markdown",
   "metadata": {},
   "source": [
    "### sloučení textových sloupců\n",
    "Spojení obou textových polí do jednoho sloupce by mohlo být vhodné pro vytváření předpovědí.  \n",
    "`review/summary` nabízí jen krátký prostor - zákazník vyjadřuje verdikt v několika slovech.  \n",
    "Na druhou stranu `review/text` nabízí podrobnější popis.\n",
    "\n",
    "U `review/summary` lze očekávat, že texty budou nejednoznačné, duplikované & příliš krátké na to, aby na jejich základě bylo možné provést spolehlivou klasifikaci.  \n",
    "V kombinaci s texty však získáme jak výpověďní hodnotu `review/summary`, tak specifičnost `review/text`."
   ]
  },
  {
   "cell_type": "code",
   "execution_count": 17,
   "metadata": {},
   "outputs": [
    {
     "name": "stderr",
     "output_type": "stream",
     "text": [
      "/var/folders/_1/x3y6hbdn5ljg_g6fr5kj88bs87mgrt/T/ipykernel_80580/3300223837.py:2: SettingWithCopyWarning: \n",
      "A value is trying to be set on a copy of a slice from a DataFrame.\n",
      "Try using .loc[row_indexer,col_indexer] = value instead\n",
      "\n",
      "See the caveats in the documentation: https://pandas.pydata.org/pandas-docs/stable/user_guide/indexing.html#returning-a-view-versus-a-copy\n",
      "  df_deduped[\"review/all_text\"] = df_deduped[\"review/summary\"] + \"\\n\" + df_deduped[\"review/text\"]\n"
     ]
    }
   ],
   "source": [
    "# summary + text in new col\n",
    "df_deduped[\"review/all_text\"] = df_deduped[\"review/summary\"] + \"\\n\" + df_deduped[\"review/text\"]"
   ]
  },
  {
   "cell_type": "markdown",
   "metadata": {},
   "source": [
    "### binarizace\n",
    "Zákazníci udělují produktům hodnocení od 1 do 5 hvězdiček.  \n",
    "Naprostá většina recenzí uděluje 5 hvězdiček.  \n",
    "To vytváří velmi nevyvážený dataset.  \n",
    "\n",
    "Proto:\n",
    "- Recenze s 1, 2, 3 hvězdami budou NEGATIVNÍ.  \n",
    "- Recenze s 4, 5 hvězdami budou POZITIVNÍ."
   ]
  },
  {
   "cell_type": "code",
   "execution_count": 18,
   "metadata": {},
   "outputs": [
    {
     "data": {
      "text/plain": [
       "<AxesSubplot:xlabel='review/score', ylabel='count'>"
      ]
     },
     "execution_count": 18,
     "metadata": {},
     "output_type": "execute_result"
    },
    {
     "data": {
      "image/png": "[encoded data removed]",
      "text/plain": [
       "<Figure size 432x288 with 1 Axes>"
      ]
     },
     "metadata": {
      "needs_background": "light"
     },
     "output_type": "display_data"
    }
   ],
   "source": [
    "sns.countplot(x=df_deduped[\"review/score\"])"
   ]
  },
  {
   "cell_type": "code",
   "execution_count": 19,
   "metadata": {},
   "outputs": [
    {
     "name": "stderr",
     "output_type": "stream",
     "text": [
      "/var/folders/_1/x3y6hbdn5ljg_g6fr5kj88bs87mgrt/T/ipykernel_80580/2417537417.py:4: SettingWithCopyWarning: \n",
      "A value is trying to be set on a copy of a slice from a DataFrame.\n",
      "Try using .loc[row_indexer,col_indexer] = value instead\n",
      "\n",
      "See the caveats in the documentation: https://pandas.pydata.org/pandas-docs/stable/user_guide/indexing.html#returning-a-view-versus-a-copy\n",
      "  df_deduped[\"label\"] = [score2label[score] for score in df_deduped[\"review/score\"].tolist()]\n"
     ]
    },
    {
     "data": {
      "text/plain": [
       "<AxesSubplot:xlabel='label', ylabel='count'>"
      ]
     },
     "execution_count": 19,
     "metadata": {},
     "output_type": "execute_result"
    },
    {
     "data": {
      "image/png": "[encoded data removed]",
      "text/plain": [
       "<Figure size 432x288 with 1 Axes>"
      ]
     },
     "metadata": {
      "needs_background": "light"
     },
     "output_type": "display_data"
    }
   ],
   "source": [
    "# binarize outcome variable\n",
    "score2label = {1: 0, 2: 0, 3: 0, 4: 1, 5: 1}\n",
    "\n",
    "df_deduped[\"label\"] = [score2label[score] for score in df_deduped[\"review/score\"].tolist()]\n",
    "sns.countplot(x=df_deduped[\"label\"])"
   ]
  },
  {
   "cell_type": "markdown",
   "metadata": {},
   "source": [
    "I když dataset je stále velmi nevyvážený, toto bude muset stačit."
   ]
  },
  {
   "cell_type": "markdown",
   "metadata": {},
   "source": [
    "### train-test split\n",
    "Pomocí argumentu `stratify` zajistíme, aby byl poměr pozitivních a negativních recenzí v trénovací a testovací složce přibližně stejný."
   ]
  },
  {
   "cell_type": "code",
   "execution_count": 20,
   "metadata": {},
   "outputs": [
    {
     "name": "stderr",
     "output_type": "stream",
     "text": [
      "/var/folders/_1/x3y6hbdn5ljg_g6fr5kj88bs87mgrt/T/ipykernel_80580/1023556878.py:2: SettingWithCopyWarning: \n",
      "A value is trying to be set on a copy of a slice from a DataFrame.\n",
      "Try using .loc[row_indexer,col_indexer] = value instead\n",
      "\n",
      "See the caveats in the documentation: https://pandas.pydata.org/pandas-docs/stable/user_guide/indexing.html#returning-a-view-versus-a-copy\n",
      "  df_deduped['review/time'] = df_deduped['review/time'].dt.strftime('%Y-%m-%d')\n"
     ]
    }
   ],
   "source": [
    "# convert dates into a string again (datetimes can't be parsed by the model trainer)\n",
    "df_deduped['review/time'] = df_deduped['review/time'].dt.strftime('%Y-%m-%d')\n",
    "\n",
    "# train test split\n",
    "X_train, X_test = train_test_split(\n",
    "    df_deduped, test_size=0.3, stratify=df_deduped[\"label\"], random_state=891117\n",
    ")\n",
    "\n",
    "# save for model training\n",
    "X_train.to_csv(\"dat/train.csv\", index=False)\n",
    "X_test.to_csv(\"dat/test.csv\", index=False)"
   ]
  },
  {
   "cell_type": "markdown",
   "metadata": {},
   "source": [
    "# finetuning\n",
    "\n",
    "Způsobem, jak vytvořit dobrý klasifikátor, je použití přenosového učení (transfer learning).  \n",
    "Tímto způsobem můžeme použít model, který již byl natrénován na mnohonásobně větším datasetu a vyladit jej pro danou úlohu. \n",
    "\n",
    "\n",
    "### distilBERT\n",
    "Jako základní model jsem zvolil [distilBERT](https://huggingface.co/distilbert-base-uncased).  \n",
    "Protože:\n",
    "- feature engineering je už zahrnuto v modelu a nemusíme tak vymýšlet lemmatizaci, tf-idf vektorizaci, atd.\n",
    "- je to menší verze modelu BERT, ale stále téměř stejně přesná. Méně parametrů modelu znamená rychlejší (levnější) trénování a inferenci.\n",
    "- Modely typu BERT jsou v současné době nejpřesnější v řadě úloh klasifikace textu (https://paperswithcode.com/task/sentiment-analysis)\n",
    "    - a konkrétně při klasifikaci sentimentu recenzí z Amazonu (https://paperswithcode.com/sota/sentiment-analysis-on-amazon-review-polarity)"
   ]
  },
  {
   "cell_type": "markdown",
   "metadata": {},
   "source": [
    "### trénování\n",
    "Jelikož trénování modelu zabere pár hodin, nezahrnul jsem jej v tomto notebooku.  \n",
    "Skript pro trénování: `src/finetune_distilbert.py`.  \n",
    "Výsledný model jsem nahrál na [huggingface](https://huggingface.co/janko/distilbert-uncased-finefoods).\n",
    "\n",
    "Paramtery pro trénování zůstaly stejné jako v základním modelu, s vyjímkou:\n",
    "- n epochs: 5\n",
    "- learning rate: 2e-5\n",
    "\n",
    "Pozbytek notebooku budu používat svůj natrénovaný model."
   ]
  },
  {
   "cell_type": "code",
   "execution_count": 21,
   "metadata": {},
   "outputs": [
    {
     "name": "stderr",
     "output_type": "stream",
     "text": [
      "All TF 2.0 model weights were used when initializing DistilBertForSequenceClassification.\n",
      "\n",
      "All the weights of DistilBertForSequenceClassification were initialized from the TF 2.0 model.\n",
      "If your task is similar to the task the model of the checkpoint was trained on, you can already use DistilBertForSequenceClassification for predictions without further training.\n"
     ]
    }
   ],
   "source": [
    "# load fine-tuned model\n",
    "tokenizer = AutoTokenizer.from_pretrained(\"janko/distilbert-uncased-finefoods\")\n",
    "model = AutoModelForSequenceClassification.from_pretrained(\"janko/distilbert-uncased-finefoods\", from_tf=True)\n",
    "classifier = pipeline(task=\"text-classification\", model=model, tokenizer=tokenizer)"
   ]
  },
  {
   "cell_type": "code",
   "execution_count": 22,
   "metadata": {},
   "outputs": [],
   "source": [
    "# predict labels of reviews in the test set\n",
    "if not os.path.exists('dat/test_predictions.ndjson'):\n",
    "\n",
    "    predictions = []\n",
    "    for text in tqdm(X_test[\"review/all_text\"].tolist()):\n",
    "        predictions.extend(\n",
    "            classifier(text, padding=True, truncation=True)\n",
    "        )\n",
    "\n",
    "    with open('dat/test_predictions.ndjson', 'w') as fout:\n",
    "        ndjson.dump(predictions, fout)\n",
    "\n",
    "else:\n",
    "    # if predictions were already made, load instead\n",
    "    with open('dat/test_predictions.ndjson') as fin:\n",
    "        predictions = ndjson.load(fin)\n"
   ]
  },
  {
   "cell_type": "code",
   "execution_count": 23,
   "metadata": {},
   "outputs": [],
   "source": [
    "# convert predictions to class names\n",
    "pred2class = {'LABEL_0': 'NEGATIVE', 'LABEL_1': 'POSITIVE'}\n",
    "y_pred = [pred2class[pred['label']] for pred in predictions]\n",
    "\n",
    "# convert true labels to class names\n",
    "label2class = {0: \"NEGATIVE\", 1: \"POSITIVE\"}\n",
    "y_true = [label2class[lab] for lab in X_test['label'].tolist()]"
   ]
  },
  {
   "cell_type": "markdown",
   "metadata": {},
   "source": [
    "Model má 96% přesnost na testovacím datasetu.  \n",
    "\n",
    "Pozitivní recenze jsou klasifikovány s větší jistotou, než negativní.  \n",
    "To může být z několika důvodů:\n",
    "- nerovnovážné zastoupení obou kategorií\n",
    "- negativní recenze mohou být různorodější, protože např. 3 hvězdy jsou stále považovány za negativní"
   ]
  },
  {
   "cell_type": "code",
   "execution_count": 24,
   "metadata": {},
   "outputs": [
    {
     "name": "stdout",
     "output_type": "stream",
     "text": [
      "              precision    recall  f1-score   support\n",
      "\n",
      "    NEGATIVE       0.91      0.92      0.92     26045\n",
      "    POSITIVE       0.98      0.97      0.98     92028\n",
      "\n",
      "    accuracy                           0.96    118073\n",
      "   macro avg       0.94      0.95      0.95    118073\n",
      "weighted avg       0.96      0.96      0.96    118073\n",
      "\n"
     ]
    }
   ],
   "source": [
    "# evaluate test set predictions\n",
    "performance_table = classification_report(y_true, y_pred)\n",
    "print(performance_table)"
   ]
  },
  {
   "cell_type": "markdown",
   "metadata": {},
   "source": [
    "# evaluace a příklady inference"
   ]
  },
  {
   "cell_type": "markdown",
   "metadata": {},
   "source": [
    "Jak si model poradil s nejednoznačnými recenzemi (2, 3, 4 hvězdy)?  \n",
    "\n",
    "Celkově dobře. Predikce se zřetelně mění mezi 3. a 4. hvězdou, v souladu s tím, jak byly kategorie definovány.  \n",
    "Model největší jistotu v extrémech (1 nebo 5 hvězd).  \n",
    "Nejméně jisté jsou predikce 3-hvězdičkových recenzí.  \n",
    "\n",
    "Zajímavá je četnost negativních predikcí pro 4-hvězdičkové recenze.  \n",
    "Možná zákazníci v těchto recenzích více zmiňují chyby produktu, aby vysvětlili proč nedávají 5 hvězd.\n"
   ]
  },
  {
   "cell_type": "code",
   "execution_count": 25,
   "metadata": {},
   "outputs": [
    {
     "data": {
      "text/plain": [
       "<AxesSubplot:xlabel='review/score', ylabel='prediction'>"
      ]
     },
     "execution_count": 25,
     "metadata": {},
     "output_type": "execute_result"
    },
    {
     "data": {
      "image/png": "[encoded data removed]",
      "text/plain": [
       "<Figure size 432x288 with 2 Axes>"
      ]
     },
     "metadata": {
      "needs_background": "light"
     },
     "output_type": "display_data"
    }
   ],
   "source": [
    "df_viz = X_test.copy()\n",
    "df_viz['prediction'] = y_pred\n",
    "\n",
    "confusion_mat = (df_viz\n",
    "    .groupby(['prediction', 'review/score'])\n",
    "    .size()\n",
    "    .reset_index(name='n')\n",
    "    .pivot(\"prediction\", \"review/score\", \"n\")\n",
    ")\n",
    "\n",
    "sns.heatmap(data=confusion_mat, annot=True, fmt=\"d\")"
   ]
  },
  {
   "cell_type": "markdown",
   "metadata": {},
   "source": [
    "Predikce z vymyšlených vět ukazuje, že model má určitý vhled do polarity recenzí a zvládne i negace."
   ]
  },
  {
   "cell_type": "code",
   "execution_count": 26,
   "metadata": {},
   "outputs": [
    {
     "data": {
      "text/plain": [
       "[{'label': 'LABEL_1', 'score': 0.9844746589660645}]"
      ]
     },
     "execution_count": 26,
     "metadata": {},
     "output_type": "execute_result"
    }
   ],
   "source": [
    "# positive\n",
    "classifier('This oatmeal tastes good')"
   ]
  },
  {
   "cell_type": "code",
   "execution_count": 27,
   "metadata": {},
   "outputs": [
    {
     "data": {
      "text/plain": [
       "[{'label': 'LABEL_0', 'score': 0.9976890087127686}]"
      ]
     },
     "execution_count": 27,
     "metadata": {},
     "output_type": "execute_result"
    }
   ],
   "source": [
    "# negative\n",
    "classifier(\"This oatmeal doesn't taste good\")"
   ]
  },
  {
   "cell_type": "code",
   "execution_count": 28,
   "metadata": {},
   "outputs": [
    {
     "data": {
      "text/plain": [
       "[{'label': 'LABEL_1', 'score': 0.9779092073440552}]"
      ]
     },
     "execution_count": 28,
     "metadata": {},
     "output_type": "execute_result"
    }
   ],
   "source": [
    "# positive\n",
    "classifier('I would recommend this product')"
   ]
  },
  {
   "cell_type": "code",
   "execution_count": 29,
   "metadata": {},
   "outputs": [
    {
     "data": {
      "text/plain": [
       "[{'label': 'LABEL_0', 'score': 0.9986770749092102}]"
      ]
     },
     "execution_count": 29,
     "metadata": {},
     "output_type": "execute_result"
    }
   ],
   "source": [
    "# negative\n",
    "classifier('I would not recommend this product')"
   ]
  },
  {
   "cell_type": "markdown",
   "metadata": {},
   "source": [
    "Zdá se ale, že model má problém s klasifikací sarkasmů."
   ]
  },
  {
   "cell_type": "code",
   "execution_count": 30,
   "metadata": {},
   "outputs": [
    {
     "data": {
      "text/plain": [
       "[{'label': 'LABEL_1', 'score': 0.9972133040428162}]"
      ]
     },
     "execution_count": 30,
     "metadata": {},
     "output_type": "execute_result"
    }
   ],
   "source": [
    "# positive\n",
    "classifier('What a \"great\" product...')"
   ]
  },
  {
   "cell_type": "code",
   "execution_count": 31,
   "metadata": {},
   "outputs": [
    {
     "data": {
      "text/plain": [
       "[{'label': 'LABEL_1', 'score': 0.9995976090431213}]"
      ]
     },
     "execution_count": 31,
     "metadata": {},
     "output_type": "execute_result"
    }
   ],
   "source": [
    "# positive\n",
    "classifier('What a great product!!!')"
   ]
  },
  {
   "cell_type": "markdown",
   "metadata": {},
   "source": [
    "Dále se zdá, že se model z recenzí naučil některé předpojatosti."
   ]
  },
  {
   "cell_type": "code",
   "execution_count": 32,
   "metadata": {},
   "outputs": [
    {
     "data": {
      "text/plain": [
       "[{'label': 'LABEL_1', 'score': 0.7475714087486267}]"
      ]
     },
     "execution_count": 32,
     "metadata": {},
     "output_type": "execute_result"
    }
   ],
   "source": [
    "# positive\n",
    "classifier('This product was made in the USA')"
   ]
  },
  {
   "cell_type": "code",
   "execution_count": 33,
   "metadata": {},
   "outputs": [
    {
     "data": {
      "text/plain": [
       "[{'label': 'LABEL_0', 'score': 0.9829034209251404}]"
      ]
     },
     "execution_count": 33,
     "metadata": {},
     "output_type": "execute_result"
    }
   ],
   "source": [
    "# negative\n",
    "classifier('This product was made in China')"
   ]
  }
 ],
 "metadata": {
  "kernelspec": {
   "display_name": "Python 3.9.7 64-bit ('szn_env')",
   "language": "python",
   "name": "python3"
  },
  "language_info": {
   "codemirror_mode": {
    "name": "ipython",
    "version": 3
   },
   "file_extension": ".py",
   "mimetype": "text/x-python",
   "name": "python",
   "nbconvert_exporter": "python",
   "pygments_lexer": "ipython3",
   "version": "3.9.7"
  },
  "orig_nbformat": 4,
  "vscode": {
   "interpreter": {
    "hash": "b1d7d62c7c33f060afb13d6eda27fcd3ec7901278c959f76e0efc61457467d37"
   }
  }
 },
 "nbformat": 4,
 "nbformat_minor": 2
}
